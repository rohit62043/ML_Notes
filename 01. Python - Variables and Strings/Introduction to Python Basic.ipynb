{
 "cells": [
  {
   "cell_type": "markdown",
   "id": "246f0c7d",
   "metadata": {},
   "source": [
    "## Intro to Python\n",
    "end=\" \"-->used to enter space or anything between two print satements "
   ]
  },
  {
   "cell_type": "code",
   "execution_count": 3,
   "id": "8f20b4c9",
   "metadata": {},
   "outputs": [
    {
     "name": "stdout",
     "output_type": "stream",
     "text": [
      "10 12\n"
     ]
    }
   ],
   "source": [
    "#print function\n",
    "a=10\n",
    "print(a, end=\" \")\n",
    "print(12)"
   ]
  },
  {
   "cell_type": "code",
   "execution_count": 5,
   "id": "e661816e",
   "metadata": {},
   "outputs": [
    {
     "data": {
      "text/plain": [
       "10"
      ]
     },
     "execution_count": 5,
     "metadata": {},
     "output_type": "execute_result"
    }
   ],
   "source": [
    "# last line ko cell ka output trate karta hai\n",
    "a=10\n",
    "b=12\n",
    "b\n",
    "a"
   ]
  },
  {
   "cell_type": "code",
   "execution_count": 9,
   "id": "eae9c83c",
   "metadata": {},
   "outputs": [
    {
     "name": "stdout",
     "output_type": "stream",
     "text": [
      "<class 'int'>\n",
      "<class 'float'>\n",
      "<class 'str'>\n",
      "<class 'complex'>\n"
     ]
    }
   ],
   "source": [
    "# Variable\n",
    "a=10\n",
    "print(type(a))\n",
    "a=12.5\n",
    "print(type(a))\n",
    "a=\"Rohit\"\n",
    "print(type(a))\n",
    "# Complex  Number\n",
    "a=2+3j\n",
    "print(type(a))\n",
    "# we can assign like this also\n",
    "c,d=2,\"rohit\""
   ]
  },
  {
   "cell_type": "code",
   "execution_count": 11,
   "id": "2d91441a",
   "metadata": {},
   "outputs": [
    {
     "name": "stdout",
     "output_type": "stream",
     "text": [
      "32\n",
      "-8\n",
      "240\n",
      "3833759992447475122176\n",
      "12\n",
      "0.6\n",
      "0\n"
     ]
    }
   ],
   "source": [
    "# Operators\n",
    "a,b=12,20;\n",
    "print(a+b)\n",
    "print(a-b)\n",
    "print(a*b)\n",
    "print(a**b)\n",
    "print(a%b)\n",
    "print(a/b)\n",
    "print(a//b)"
   ]
  },
  {
   "cell_type": "code",
   "execution_count": 13,
   "id": "b54edd99",
   "metadata": {},
   "outputs": [
    {
     "name": "stdout",
     "output_type": "stream",
     "text": [
      "This is a string\n"
     ]
    }
   ],
   "source": [
    "# String\n",
    "a=\"This is a string\"\n",
    "print(a)"
   ]
  },
  {
   "cell_type": "code",
   "execution_count": 17,
   "id": "efcd560d",
   "metadata": {},
   "outputs": [
    {
     "name": "stdout",
     "output_type": "stream",
     "text": [
      "6\n",
      "<class 'str'>\n",
      "R\n",
      "Rohit Singh\n"
     ]
    }
   ],
   "source": [
    "#typical string properties\n",
    "print(len(a))\n",
    "print(type(a))\n",
    "print(a[0])\n",
    "# String are immutable i.e. we cant do a[0]=\"c\" tis is invalid\n",
    "# a=\"def\" this is valid as we aren't changing the string\n",
    "# se can concatinate two string only \n",
    "a=\"Rohit \"\n",
    "b=\"Singh\"\n",
    "c=a+b #valid\n",
    "print(c)\n",
    "# c=a+2 invalid we cant add string and integer as we can in javascript\n"
   ]
  },
  {
   "cell_type": "code",
   "execution_count": 19,
   "id": "4883af3b",
   "metadata": {},
   "outputs": [
    {
     "name": "stdout",
     "output_type": "stream",
     "text": [
      "   ABC   \n",
      "   abc   \n",
      "   abc   \n",
      "ABC\n",
      "True\n"
     ]
    }
   ],
   "source": [
    "#few function for string\n",
    "a=\"   abc   \";\n",
    "print(a.upper())\n",
    "print(a)\n",
    "a=a.upper()\n",
    "print(a.lower())\n",
    "print(a.strip())\n",
    "a=a.strip()\n",
    "print(a.isalpha())"
   ]
  },
  {
   "cell_type": "code",
   "execution_count": 24,
   "id": "65ca07ae",
   "metadata": {},
   "outputs": [
    {
     "name": "stdout",
     "output_type": "stream",
     "text": [
      "8\n",
      "8\n",
      "<class 'str'>\n",
      "3\n",
      "3\n",
      "<class 'int'>\n"
     ]
    }
   ],
   "source": [
    "# user input\n",
    "# note: user input is by default string\n",
    "a=input()\n",
    "print(a)\n",
    "print(type(a))\n",
    "# input() return a string\n",
    "a=int(input())\n",
    "print(a)\n",
    "print(type(a))"
   ]
  },
  {
   "cell_type": "code",
   "execution_count": 29,
   "id": "9273d0aa",
   "metadata": {},
   "outputs": [
    {
     "name": "stdout",
     "output_type": "stream",
     "text": [
      "a\n",
      "c\n"
     ]
    }
   ],
   "source": [
    "# negative index\n",
    "s=\"abc\"\n",
    "print(s[0])\n",
    "print(s[-1])"
   ]
  },
  {
   "cell_type": "code",
   "execution_count": 38,
   "id": "72aa3759",
   "metadata": {},
   "outputs": [
    {
     "name": "stdout",
     "output_type": "stream",
     "text": [
      "bdfh\n",
      "bcde\n",
      "bcde\n",
      "efgh\n",
      "abcdef\n",
      "abcdefgh\n"
     ]
    }
   ],
   "source": [
    "# slicing-->to get substring from string\n",
    "s=\"abcdefgh\"\n",
    "print(s[1:8:2])\n",
    "print(s[1:5:1])\n",
    "print(s[1:5])\n",
    "print(s[4:])\n",
    "print(s[:6])\n",
    "print(s[:])\n"
   ]
  },
  {
   "cell_type": "code",
   "execution_count": 1,
   "id": "f32d10eb",
   "metadata": {},
   "outputs": [
    {
     "name": "stdout",
     "output_type": "stream",
     "text": [
      "<class 'tuple'>\n",
      "1\n",
      "(1, 2, 's', 4.5)\n",
      "(1, 2, 1, 2, 1, 2)\n",
      "True\n",
      "False\n",
      "2\n",
      "2\n",
      "1\n"
     ]
    }
   ],
   "source": [
    "# Tuples\n",
    "t=(1,2,3)\n",
    "print(type(t))\n",
    "print(t[0])\n",
    "\n",
    "t=(1,\"12mg\",2.3)\n",
    "# Tuples are immutable\n",
    "# t[0]=\"ab\" INVALID\n",
    "\n",
    "# Slicing also work on tuple\n",
    "t[0:2]\n",
    "\n",
    "# Operation on tuple\n",
    "t=(1,2)\n",
    "s=(\"s\",4.5)\n",
    "\n",
    "print(t+s)\n",
    "print(t*3)\n",
    "print(1 in t)\n",
    "print(2 in s)\n",
    "print(len(t))\n",
    "print(max(t))\n",
    "print(min(t))"
   ]
  },
  {
   "cell_type": "code",
   "execution_count": 6,
   "id": "6e5b925f",
   "metadata": {},
   "outputs": [
    {
     "name": "stdout",
     "output_type": "stream",
     "text": [
      "6\n",
      "1                     1 \n",
      "1 2                 2 1 \n",
      "1 2 3             3 2 1 \n",
      "1 2 3 4         4 3 2 1 \n",
      "1 2 3 4 5     5 4 3 2 1 \n",
      "1 2 3 4 5 6 6 5 4 3 2 1 \n"
     ]
    }
   ],
   "source": [
    "# Pattern print\n",
    "n=int(input())\n",
    "\n",
    "for i in range(1,n+1):\n",
    "    for j in range(1,i+1):\n",
    "        print(j,end=\" \")\n",
    "    for k in range(1,2*n-2*i+1):\n",
    "        print(\" \",end=\" \")\n",
    "    for j in range(i,0,-1):\n",
    "        print(j,end=\" \")\n",
    "    print()\n",
    "    \n"
   ]
  },
  {
   "cell_type": "code",
   "execution_count": 21,
   "id": "c2c9f9a2",
   "metadata": {},
   "outputs": [
    {
     "name": "stdout",
     "output_type": "stream",
     "text": [
      "ehT tsrif gniht ot eciton ni siht melborp \n"
     ]
    }
   ],
   "source": [
    "s=\"The first thing to notice in this problem\"\n",
    "x=s.split(\" \");\n",
    "\n",
    "def rev(i):\n",
    "    temp=\"\"\n",
    "    e=int(len(i))-1\n",
    "    while e>=0:\n",
    "        temp=temp+i[e]\n",
    "        e=e-1\n",
    "    return temp\n",
    "\n",
    "ans=\"\"\n",
    "for i in x:\n",
    "    ans=ans+rev(i)+\" \"\n",
    "print(ans)"
   ]
  },
  {
   "cell_type": "code",
   "execution_count": 29,
   "id": "c40bce48",
   "metadata": {},
   "outputs": [
    {
     "name": "stdout",
     "output_type": "stream",
     "text": [
      "<class 'list'>\n",
      "[1, 3, 5, 7]\n",
      "[0, 0, 0, 0, 0, 0, 0, 0, 0, 0]\n",
      "[0, 1, 2, 3, 4, 5, 6, 7, 8, 9]\n",
      "[0, 1, 4, 9, 16, 25, 36, 49, 64, 81]\n"
     ]
    }
   ],
   "source": [
    "# List-->Collection of data\n",
    "# One major disadvantage of tuple is that thye are immutable\n",
    "\n",
    "# Creating list\n",
    "a=[1,2,3]\n",
    "print(type(a))\n",
    "b=list([1,3,5,7]) \n",
    "print(b)\n",
    "\n",
    "b1=[0 for i in range(10)]\n",
    "print(b1)\n",
    "b2=[i for i in range(10)]\n",
    "print(b2)\n",
    "b3=[i*i for i in range(10)]\n",
    "print(b3)"
   ]
  },
  {
   "cell_type": "code",
   "execution_count": 35,
   "id": "9e96c2cf",
   "metadata": {},
   "outputs": [
    {
     "name": "stdout",
     "output_type": "stream",
     "text": [
      "3\n",
      "[2, 3]\n",
      "3\n",
      "1 2 3 "
     ]
    }
   ],
   "source": [
    "# How to access data in list\n",
    "print(a[2])\n",
    "# We can also do slicing-->return new list\n",
    "print(a[1:3])\n",
    "print(len(a))\n",
    "\n",
    "for i in a:\n",
    "    print(i,end=\" \")\n"
   ]
  },
  {
   "cell_type": "code",
   "execution_count": 56,
   "id": "908f4859",
   "metadata": {},
   "outputs": [
    {
     "name": "stdout",
     "output_type": "stream",
     "text": [
      "1 2 3 4 5 6 7 8\n",
      "[1, 2, 3, 4, 5, 6, 7, 8]\n",
      "1 2 3 4 5 6\n",
      "[1, 2, 3, 4, 5, 6]\n"
     ]
    }
   ],
   "source": [
    "# How to take user input in a list\n",
    "# three steps\n",
    "# 1.Strip\n",
    "str=input().strip()\n",
    "# 2.Split\n",
    "list=str.split(\" \")\n",
    "# 3.Convert in integer\n",
    "for i in range(0,len(list)):\n",
    "    list[i]=int(list[i])\n",
    "print(list)\n",
    "\n",
    "# One Line for taking user input in list\n",
    "\n",
    "l=[int(x) for x in input().strip().split(\" \")]\n",
    "print(l)"
   ]
  },
  {
   "cell_type": "code",
   "execution_count": 57,
   "id": "b009d398",
   "metadata": {},
   "outputs": [
    {
     "name": "stdout",
     "output_type": "stream",
     "text": [
      "[1, 'sd', 3, 2, 3]\n",
      "[1, 23, 'sd', 3, 2, 3]\n",
      "[1, 23, 'sd', 3, 2, 3, 2, 3, 6]\n"
     ]
    }
   ],
   "source": [
    "# Add element in a list\n",
    "l=[1,\"sd\",3,2]\n",
    "# append inset at last\n",
    "l.append(3)\n",
    "print(l)\n",
    "# insert(position,value) to insert at particular index\n",
    "l.insert(1,23)\n",
    "print(l)\n",
    "\n",
    "# Extend is used to add two lists\n",
    "l2=[2,3,6]\n",
    "l.extend(l2)\n",
    "print(l)"
   ]
  },
  {
   "cell_type": "code",
   "execution_count": 60,
   "id": "60eaf41b",
   "metadata": {},
   "outputs": [
    {
     "name": "stdout",
     "output_type": "stream",
     "text": [
      "[1, 23, 'sd', 3, 2, 3, 2, 3, 6]\n",
      "['sd', 3, 2, 3, 2, 3, 6]\n"
     ]
    }
   ],
   "source": [
    "# deleting elements in list\n",
    "# pop without argument is used to delete last element\n",
    "# l.pop()\n",
    "# print(l)\n",
    "# pop with argument is used to delete element at particular index\n",
    "# l.pop(3) delete element at index 3\n",
    "\n",
    "# l.remove(3) #remove particular value\n",
    "print(l)\n",
    "\n",
    "# using del we can remove a particular element or a group of element\n",
    "# del l[0] #delete one element\n",
    "# print(l)\n",
    "\n",
    "del l[0:2] #delete element starting from index 0 to 1\n",
    "print(l)"
   ]
  },
  {
   "cell_type": "code",
   "execution_count": 62,
   "id": "3ae1168a",
   "metadata": {},
   "outputs": [
    {
     "data": {
      "text/plain": [
       "[1, 2, 3, 1, 2, 3]"
      ]
     },
     "execution_count": 62,
     "metadata": {},
     "output_type": "execute_result"
    }
   ],
   "source": [
    "l=[1,2,3]\n",
    "#l+1 #addition of list with integer is not ok\n",
    "l*2 #multiplying with integer is ok"
   ]
  },
  {
   "cell_type": "code",
   "execution_count": 67,
   "id": "78c95dc6",
   "metadata": {},
   "outputs": [
    {
     "name": "stdout",
     "output_type": "stream",
     "text": [
      "[1, 1, 2, 5, 6, 8, 8, 9]\n",
      "2\n",
      "3\n"
     ]
    },
    {
     "data": {
      "text/plain": [
       "False"
      ]
     },
     "execution_count": 67,
     "metadata": {},
     "output_type": "execute_result"
    }
   ],
   "source": [
    "l=[1,8,6,9,2,1,5,8]\n",
    "l.sort()\n",
    "print(l)\n",
    "# count the frquency of element\n",
    "print(l.count(1))\n",
    "# index is used to print value at that index\n",
    "print(l.index(5))\n",
    "\n",
    "7 in l #this return boolean true if 7 is present in l else false"
   ]
  },
  {
   "cell_type": "code",
   "execution_count": 2,
   "id": "901d617c",
   "metadata": {},
   "outputs": [
    {
     "name": "stdout",
     "output_type": "stream",
     "text": [
      "[1, 2, 3, 5, 5, 8, 8, 9]\n"
     ]
    }
   ],
   "source": [
    "# Bubble sort\n",
    "l=[1,9,5,8,3,5,8,2]\n",
    "n=len(l)\n",
    "for j in range(0,n-1):\n",
    "    for i in range(0,n-1-j):\n",
    "        if l[i]>l[i+1]:\n",
    "            temp=l[i]\n",
    "            l[i]=l[i+1]\n",
    "            l[i+1]=temp\n",
    "\n",
    "print(l)"
   ]
  },
  {
   "cell_type": "code",
   "execution_count": 12,
   "id": "30f78c3f",
   "metadata": {},
   "outputs": [
    {
     "name": "stdout",
     "output_type": "stream",
     "text": [
      "{1: 23, 'sd': 4, 23: 24, 'rojr': 98}\n"
     ]
    }
   ],
   "source": [
    "# How to create a dictionoary(like map) and update/insert\n",
    "d={1:23,\"sd\":4} #key should be immutable--> tuple,string..(we cant use list and dictionary as key)\n",
    "d[23]=24  #if this key doenot exist then this is insertion otherwise updation\n",
    "d[\"rojr\"]=98\n",
    "print(d)"
   ]
  },
  {
   "cell_type": "code",
   "execution_count": 10,
   "id": "12399d6f",
   "metadata": {},
   "outputs": [
    {
     "name": "stdout",
     "output_type": "stream",
     "text": [
      "1 23\n",
      "sd 4\n",
      "rojr 98\n"
     ]
    }
   ],
   "source": [
    "# How to iterate over dictionary\n",
    "for i in d:\n",
    "    print(i,end=\" \")\n",
    "    print(d[i])\n"
   ]
  },
  {
   "cell_type": "code",
   "execution_count": 13,
   "id": "6a544435",
   "metadata": {},
   "outputs": [
    {
     "name": "stdout",
     "output_type": "stream",
     "text": [
      "{1: 23, 'sd': 4, 'rojr': 98}\n"
     ]
    }
   ],
   "source": [
    "# delete element from dictionary\n",
    "del d[23]\n",
    "print(d)"
   ]
  },
  {
   "cell_type": "code",
   "execution_count": 19,
   "id": "5eee3ef7",
   "metadata": {},
   "outputs": [
    {
     "name": "stdout",
     "output_type": "stream",
     "text": [
      "True\n",
      "1\n",
      "{}\n",
      "dict_keys([1])\n",
      "dict_values([2])\n",
      "23 is a key\n"
     ]
    }
   ],
   "source": [
    "# common function of dictionary\n",
    "d1={1:2}\n",
    "d2={1:2}\n",
    "print(d1==d2)\n",
    "print(len(d1))\n",
    "d1.clear()\n",
    "print(d1)\n",
    "\n",
    "print(d2.keys()) #return list of keys\n",
    "print(d2.values()) #return list of values\n",
    "\n",
    "d2[23]=90\n",
    "\n",
    "if 23 in d2:\n",
    "    print(\"23 is a key\")\n",
    "else:\n",
    "    print(\"23 is not a key\")\n"
   ]
  }
 ],
 "metadata": {
  "kernelspec": {
   "display_name": "Python 3 (ipykernel)",
   "language": "python",
   "name": "python3"
  },
  "language_info": {
   "codemirror_mode": {
    "name": "ipython",
    "version": 3
   },
   "file_extension": ".py",
   "mimetype": "text/x-python",
   "name": "python",
   "nbconvert_exporter": "python",
   "pygments_lexer": "ipython3",
   "version": "3.9.7"
  }
 },
 "nbformat": 4,
 "nbformat_minor": 5
}
